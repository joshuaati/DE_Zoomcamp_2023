{
 "cells": [
  {
   "cell_type": "code",
   "execution_count": 2,
   "metadata": {},
   "outputs": [
    {
     "name": "stdout",
     "output_type": "stream",
     "text": [
      "\n",
      "CREATE OR REPLACE EXTERNAL TABLE dtc-de-375918.taxi_rides_ny.external_green_tripdata_2019\n",
      "OPTIONS(\n",
      "format = 'CSV',\n",
      "uris = ['gs://dtc_data_lake_dtc-de-375918/yellow_tripdata_2019-*.csv.gz']\n",
      ");\n",
      "\n"
     ]
    }
   ],
   "source": [
    "year, color = 2019, 'yellow'\n",
    "\n",
    "sql = f\"\"\"\n",
    "CREATE OR REPLACE EXTERNAL TABLE dtc-de-375918.taxi_rides_ny.external_green_tripdata_2019\n",
    "OPTIONS(\n",
    "format = 'CSV',\n",
    "uris = ['gs://dtc_data_lake_dtc-de-375918/{color}_tripdata_{year}-*.csv.gz']\n",
    ");\n",
    "\"\"\"\n",
    "print(sql)"
   ]
  },
  {
   "cell_type": "code",
   "execution_count": null,
   "metadata": {},
   "outputs": [],
   "source": []
  }
 ],
 "metadata": {
  "kernelspec": {
   "display_name": "Python 3.9.13 64-bit",
   "language": "python",
   "name": "python3"
  },
  "language_info": {
   "codemirror_mode": {
    "name": "ipython",
    "version": 3
   },
   "file_extension": ".py",
   "mimetype": "text/x-python",
   "name": "python",
   "nbconvert_exporter": "python",
   "pygments_lexer": "ipython3",
   "version": "3.9.13"
  },
  "orig_nbformat": 4,
  "vscode": {
   "interpreter": {
    "hash": "444d05d3491f93f5b17412671d068b195a3e37c936f545933611371140ad11e9"
   }
  }
 },
 "nbformat": 4,
 "nbformat_minor": 2
}
